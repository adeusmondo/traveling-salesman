{
  "nbformat": 4,
  "nbformat_minor": 0,
  "metadata": {
    "colab": {
      "name": "random-algorithm.ipynb",
      "provenance": [],
      "authorship_tag": "ABX9TyNxpsBQGWqYBIkT08Az3EIZ",
      "include_colab_link": true
    },
    "kernelspec": {
      "name": "python3",
      "display_name": "Python 3"
    },
    "language_info": {
      "name": "python"
    }
  },
  "cells": [
    {
      "cell_type": "markdown",
      "metadata": {
        "id": "view-in-github",
        "colab_type": "text"
      },
      "source": [
        "<a href=\"https://colab.research.google.com/github/carlosmondo/traveling-salesman/blob/main/random_algorithm.ipynb\" target=\"_parent\"><img src=\"https://colab.research.google.com/assets/colab-badge.svg\" alt=\"Open In Colab\"/></a>"
      ]
    },
    {
      "cell_type": "markdown",
      "metadata": {
        "id": "KSgodSIKGgp7"
      },
      "source": [
        "# Ex­pe­ri­men­to Pro­ble­ma do Cai­xei­ro Via­jan­te\n",
        "\n",
        "Uso do algoritmo aleatório para experimento do problema do Caixeiro Viajante."
      ]
    },
    {
      "cell_type": "code",
      "metadata": {
        "id": "TuW2YcqrGZE2"
      },
      "source": [
        ""
      ],
      "execution_count": null,
      "outputs": []
    }
  ]
}